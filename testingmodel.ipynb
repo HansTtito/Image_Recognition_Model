{
 "cells": [
  {
   "cell_type": "code",
   "execution_count": null,
   "metadata": {},
   "outputs": [],
   "source": [
    "from modelo import YOLOTrainer\n",
    "\n",
    "# Inicializar trainer\n",
    "trainer = YOLOTrainer(data_dir=\"C:/Users/hkev2/OneDrive/Escritorio/packages/Modelo_Reconocimiento_Imagenes/model/gatos/\")\n",
    "\n",
    "# Convertir anotaciones incluyendo ejemplos negativos\n",
    "trainer.convert_json_to_yolo(\n",
    "    json_file=\"C:/Users/hkev2/OneDrive/Escritorio/packages/Modelo_Reconocimiento_Imagenes/model/coordenadas/detecciones_gatos.json\",\n",
    "    negative_examples_dir=\"C:/Users/hkev2/OneDrive/Escritorio/packages/Modelo_Reconocimiento_Imagenes/model/perros/labeled_images/\"  # Directorio con imágenes que NO son gatos\n",
    ")\n",
    "\n",
    "# Entrenar con los parámetros mejorados\n",
    "trainer.train(\n",
    "    epochs=50,  # Menos épocas para evitar overfitting\n",
    "    batch_size=16,\n",
    "    imgsz=640\n",
    ")\n",
    "\n",
    "trainer.save_model(output_dir=\"C:/Users/hkev2/Onedrive/Escritorio/packages/Modelo_Reconocimiento_Imagenes/outputs_models/\", name=\"modelo_gatos.pt\")\n"
   ]
  }
 ],
 "metadata": {
  "kernelspec": {
   "display_name": "Python 3",
   "language": "python",
   "name": "python3"
  },
  "language_info": {
   "codemirror_mode": {
    "name": "ipython",
    "version": 3
   },
   "file_extension": ".py",
   "mimetype": "text/x-python",
   "name": "python",
   "nbconvert_exporter": "python",
   "pygments_lexer": "ipython3",
   "version": "3.12.7"
  }
 },
 "nbformat": 4,
 "nbformat_minor": 2
}
