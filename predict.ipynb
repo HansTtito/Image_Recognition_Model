{
 "cells": [
  {
   "cell_type": "code",
   "execution_count": null,
   "metadata": {},
   "outputs": [],
   "source": [
    "from modelo import YOLOTrainer\n",
    "\n",
    "# Inicializar el trainer y cargar el modelo previamente entrenado\n",
    "trainer = YOLOTrainer(data_dir=\"C:/Users/hkev2/OneDrive/Escritorio/packages/Modelo_Reconocimiento_Imagenes/model/gatos/\")\n",
    "# Cargamos el modelo ... formato .pt\n",
    "trainer.load_model(\"C:/Users/hkev2/OneDrive/Escritorio/packages/Modelo_Reconocimiento_Imagenes/model/gatos/images/output/train3/weights/best.pt\")  # Cargar el modelo guardado\n",
    "\n",
    "# Realizar predicciones con un umbral de confianza más alto\n",
    "detections = trainer.predict(\n",
    "    image_path=\"C:/Users/hkev2/OneDrive/Escritorio/packages/Modelo_Reconocimiento_Imagenes/predict/images.jpg\",\n",
    "    confidence=0.75  # Umbral más alto para reducir falsos positivos\n",
    ")\n",
    "\n",
    "# Mostrar o procesar las detecciones\n",
    "# Mostrar resultados\n",
    "if len(detections) == 0:\n",
    "    print('No se detectaron objetos')\n",
    "else:\n",
    "    for detection in detections:\n",
    "        print(f\"Clase: {detection['label']}\")\n",
    "        print(f\"Confianza: {detection['confidence']:.2%}\")\n",
    "        print(f\"Bounding Box: {detection['bbox']}\")\n",
    "        print(\"---\")"
   ]
  }
 ],
 "metadata": {
  "kernelspec": {
   "display_name": "Python 3",
   "language": "python",
   "name": "python3"
  },
  "language_info": {
   "codemirror_mode": {
    "name": "ipython",
    "version": 3
   },
   "file_extension": ".py",
   "mimetype": "text/x-python",
   "name": "python",
   "nbconvert_exporter": "python",
   "pygments_lexer": "ipython3",
   "version": "3.12.7"
  }
 },
 "nbformat": 4,
 "nbformat_minor": 2
}
